{
  "cells": [
    {
      "cell_type": "code",
      "execution_count": null,
      "metadata": {
        "id": "t68PiZcNQpq0"
      },
      "outputs": [],
      "source": [
        "import re\n",
        "import string\n",
        "import numpy as np\n",
        "import pandas as pd\n",
        "import matplotlib.pyplot as plt\n",
        "\n",
        "from sklearn.preprocessing import LabelEncoder\n",
        "from sklearn.model_selection import train_test_split\n",
        "\n",
        "from tensorflow.keras.utils import to_categorical\n",
        "from tensorflow.keras.preprocessing.text import Tokenizer\n",
        "from tensorflow.keras.preprocessing.sequence import pad_sequences\n",
        "\n",
        "from tensorflow.keras.optimizers import Adam\n",
        "from tensorflow.keras.models import Sequential\n",
        "from tensorflow.keras.callbacks import EarlyStopping\n",
        "from tensorflow.keras.layers import Dense, LSTM, Embedding, Bidirectional"
      ]
    },
    {
      "cell_type": "code",
      "execution_count": null,
      "metadata": {
        "colab": {
          "base_uri": "https://localhost:8080/"
        },
        "id": "S5tbyjXjQ2FQ",
        "outputId": "8d7609a0-2be5-4dd8-a231-3d6ae97a440f"
      },
      "outputs": [
        {
          "output_type": "stream",
          "name": "stdout",
          "text": [
            "Drive already mounted at /content/drive; to attempt to forcibly remount, call drive.mount(\"/content/drive\", force_remount=True).\n"
          ]
        }
      ],
      "source": [
        "from google.colab import drive\n",
        "drive.mount('/content/drive')"
      ]
    },
    {
      "cell_type": "code",
      "execution_count": null,
      "metadata": {
        "id": "8D27h1V5Qpq5"
      },
      "outputs": [],
      "source": [
        "# Text preprocessing function\n",
        "str_punc = string.punctuation.replace(',', '').replace(\"'\",'')\n",
        "\n",
        "def clean(text):\n",
        "    global str_punc\n",
        "    text = re.sub(r'[^a-zA-Z ]', '', text)\n",
        "    text = text.lower()\n",
        "    return text    "
      ]
    },
    {
      "cell_type": "code",
      "execution_count": null,
      "metadata": {
        "id": "orwQDQnyQpq7"
      },
      "outputs": [],
      "source": [
        "# Read dataset & Preprocess text\n",
        "df_train = pd.read_csv('/content/drive/MyDrive/train.txt', names=['Text', 'Emotion'], sep=';')\n",
        "df_val = pd.read_csv('/content/drive/MyDrive/val.txt', names=['Text', 'Emotion'], sep=';')\n",
        "df_test = pd.read_csv('/content/drive/MyDrive/test.txt', names=['Text', 'Emotion'], sep=';')\n",
        "\n",
        "X_train = df_train['Text'].apply(clean)\n",
        "y_train = df_train['Emotion']\n",
        "\n",
        "X_test = df_test['Text'].apply(clean)\n",
        "y_test = df_test['Emotion']\n",
        "\n",
        "X_val = df_val['Text'].apply(clean)\n",
        "y_val = df_val['Emotion']\n"
      ]
    },
    {
      "cell_type": "code",
      "source": [
        "df_train"
      ],
      "metadata": {
        "colab": {
          "base_uri": "https://localhost:8080/",
          "height": 424
        },
        "id": "bvNkBb4hwpAC",
        "outputId": "4eb38a27-0d65-483c-a692-02fab2ddaea1"
      },
      "execution_count": null,
      "outputs": [
        {
          "output_type": "execute_result",
          "data": {
            "text/plain": [
              "                                                    Text  Emotion\n",
              "0                                i didnt feel humiliated  sadness\n",
              "1      i can go from feeling so hopeless to so damned...  sadness\n",
              "2       im grabbing a minute to post i feel greedy wrong    anger\n",
              "3      i am ever feeling nostalgic about the fireplac...     love\n",
              "4                                   i am feeling grouchy    anger\n",
              "...                                                  ...      ...\n",
              "15995  i just had a very brief time in the beanbag an...  sadness\n",
              "15996  i am now turning and i feel pathetic that i am...  sadness\n",
              "15997                     i feel strong and good overall      joy\n",
              "15998  i feel like this was such a rude comment and i...    anger\n",
              "15999  i know a lot but i feel so stupid because i ca...  sadness\n",
              "\n",
              "[16000 rows x 2 columns]"
            ],
            "text/html": [
              "\n",
              "  <div id=\"df-615638be-ff71-4da9-9cfa-8e85ae68706c\">\n",
              "    <div class=\"colab-df-container\">\n",
              "      <div>\n",
              "<style scoped>\n",
              "    .dataframe tbody tr th:only-of-type {\n",
              "        vertical-align: middle;\n",
              "    }\n",
              "\n",
              "    .dataframe tbody tr th {\n",
              "        vertical-align: top;\n",
              "    }\n",
              "\n",
              "    .dataframe thead th {\n",
              "        text-align: right;\n",
              "    }\n",
              "</style>\n",
              "<table border=\"1\" class=\"dataframe\">\n",
              "  <thead>\n",
              "    <tr style=\"text-align: right;\">\n",
              "      <th></th>\n",
              "      <th>Text</th>\n",
              "      <th>Emotion</th>\n",
              "    </tr>\n",
              "  </thead>\n",
              "  <tbody>\n",
              "    <tr>\n",
              "      <th>0</th>\n",
              "      <td>i didnt feel humiliated</td>\n",
              "      <td>sadness</td>\n",
              "    </tr>\n",
              "    <tr>\n",
              "      <th>1</th>\n",
              "      <td>i can go from feeling so hopeless to so damned...</td>\n",
              "      <td>sadness</td>\n",
              "    </tr>\n",
              "    <tr>\n",
              "      <th>2</th>\n",
              "      <td>im grabbing a minute to post i feel greedy wrong</td>\n",
              "      <td>anger</td>\n",
              "    </tr>\n",
              "    <tr>\n",
              "      <th>3</th>\n",
              "      <td>i am ever feeling nostalgic about the fireplac...</td>\n",
              "      <td>love</td>\n",
              "    </tr>\n",
              "    <tr>\n",
              "      <th>4</th>\n",
              "      <td>i am feeling grouchy</td>\n",
              "      <td>anger</td>\n",
              "    </tr>\n",
              "    <tr>\n",
              "      <th>...</th>\n",
              "      <td>...</td>\n",
              "      <td>...</td>\n",
              "    </tr>\n",
              "    <tr>\n",
              "      <th>15995</th>\n",
              "      <td>i just had a very brief time in the beanbag an...</td>\n",
              "      <td>sadness</td>\n",
              "    </tr>\n",
              "    <tr>\n",
              "      <th>15996</th>\n",
              "      <td>i am now turning and i feel pathetic that i am...</td>\n",
              "      <td>sadness</td>\n",
              "    </tr>\n",
              "    <tr>\n",
              "      <th>15997</th>\n",
              "      <td>i feel strong and good overall</td>\n",
              "      <td>joy</td>\n",
              "    </tr>\n",
              "    <tr>\n",
              "      <th>15998</th>\n",
              "      <td>i feel like this was such a rude comment and i...</td>\n",
              "      <td>anger</td>\n",
              "    </tr>\n",
              "    <tr>\n",
              "      <th>15999</th>\n",
              "      <td>i know a lot but i feel so stupid because i ca...</td>\n",
              "      <td>sadness</td>\n",
              "    </tr>\n",
              "  </tbody>\n",
              "</table>\n",
              "<p>16000 rows × 2 columns</p>\n",
              "</div>\n",
              "      <button class=\"colab-df-convert\" onclick=\"convertToInteractive('df-615638be-ff71-4da9-9cfa-8e85ae68706c')\"\n",
              "              title=\"Convert this dataframe to an interactive table.\"\n",
              "              style=\"display:none;\">\n",
              "        \n",
              "  <svg xmlns=\"http://www.w3.org/2000/svg\" height=\"24px\"viewBox=\"0 0 24 24\"\n",
              "       width=\"24px\">\n",
              "    <path d=\"M0 0h24v24H0V0z\" fill=\"none\"/>\n",
              "    <path d=\"M18.56 5.44l.94 2.06.94-2.06 2.06-.94-2.06-.94-.94-2.06-.94 2.06-2.06.94zm-11 1L8.5 8.5l.94-2.06 2.06-.94-2.06-.94L8.5 2.5l-.94 2.06-2.06.94zm10 10l.94 2.06.94-2.06 2.06-.94-2.06-.94-.94-2.06-.94 2.06-2.06.94z\"/><path d=\"M17.41 7.96l-1.37-1.37c-.4-.4-.92-.59-1.43-.59-.52 0-1.04.2-1.43.59L10.3 9.45l-7.72 7.72c-.78.78-.78 2.05 0 2.83L4 21.41c.39.39.9.59 1.41.59.51 0 1.02-.2 1.41-.59l7.78-7.78 2.81-2.81c.8-.78.8-2.07 0-2.86zM5.41 20L4 18.59l7.72-7.72 1.47 1.35L5.41 20z\"/>\n",
              "  </svg>\n",
              "      </button>\n",
              "      \n",
              "  <style>\n",
              "    .colab-df-container {\n",
              "      display:flex;\n",
              "      flex-wrap:wrap;\n",
              "      gap: 12px;\n",
              "    }\n",
              "\n",
              "    .colab-df-convert {\n",
              "      background-color: #E8F0FE;\n",
              "      border: none;\n",
              "      border-radius: 50%;\n",
              "      cursor: pointer;\n",
              "      display: none;\n",
              "      fill: #1967D2;\n",
              "      height: 32px;\n",
              "      padding: 0 0 0 0;\n",
              "      width: 32px;\n",
              "    }\n",
              "\n",
              "    .colab-df-convert:hover {\n",
              "      background-color: #E2EBFA;\n",
              "      box-shadow: 0px 1px 2px rgba(60, 64, 67, 0.3), 0px 1px 3px 1px rgba(60, 64, 67, 0.15);\n",
              "      fill: #174EA6;\n",
              "    }\n",
              "\n",
              "    [theme=dark] .colab-df-convert {\n",
              "      background-color: #3B4455;\n",
              "      fill: #D2E3FC;\n",
              "    }\n",
              "\n",
              "    [theme=dark] .colab-df-convert:hover {\n",
              "      background-color: #434B5C;\n",
              "      box-shadow: 0px 1px 3px 1px rgba(0, 0, 0, 0.15);\n",
              "      filter: drop-shadow(0px 1px 2px rgba(0, 0, 0, 0.3));\n",
              "      fill: #FFFFFF;\n",
              "    }\n",
              "  </style>\n",
              "\n",
              "      <script>\n",
              "        const buttonEl =\n",
              "          document.querySelector('#df-615638be-ff71-4da9-9cfa-8e85ae68706c button.colab-df-convert');\n",
              "        buttonEl.style.display =\n",
              "          google.colab.kernel.accessAllowed ? 'block' : 'none';\n",
              "\n",
              "        async function convertToInteractive(key) {\n",
              "          const element = document.querySelector('#df-615638be-ff71-4da9-9cfa-8e85ae68706c');\n",
              "          const dataTable =\n",
              "            await google.colab.kernel.invokeFunction('convertToInteractive',\n",
              "                                                     [key], {});\n",
              "          if (!dataTable) return;\n",
              "\n",
              "          const docLinkHtml = 'Like what you see? Visit the ' +\n",
              "            '<a target=\"_blank\" href=https://colab.research.google.com/notebooks/data_table.ipynb>data table notebook</a>'\n",
              "            + ' to learn more about interactive tables.';\n",
              "          element.innerHTML = '';\n",
              "          dataTable['output_type'] = 'display_data';\n",
              "          await google.colab.output.renderOutput(dataTable, element);\n",
              "          const docLink = document.createElement('div');\n",
              "          docLink.innerHTML = docLinkHtml;\n",
              "          element.appendChild(docLink);\n",
              "        }\n",
              "      </script>\n",
              "    </div>\n",
              "  </div>\n",
              "  "
            ]
          },
          "metadata": {},
          "execution_count": 5
        }
      ]
    },
    {
      "cell_type": "code",
      "source": [
        "X_train \n"
      ],
      "metadata": {
        "colab": {
          "base_uri": "https://localhost:8080/"
        },
        "id": "bUpdmg0ewWaY",
        "outputId": "7dbd809e-1236-49b3-bcf1-3f4099402d6c"
      },
      "execution_count": null,
      "outputs": [
        {
          "output_type": "execute_result",
          "data": {
            "text/plain": [
              "0                                  i didnt feel humiliated\n",
              "1        i can go from feeling so hopeless to so damned...\n",
              "2         im grabbing a minute to post i feel greedy wrong\n",
              "3        i am ever feeling nostalgic about the fireplac...\n",
              "4                                     i am feeling grouchy\n",
              "                               ...                        \n",
              "15995    i just had a very brief time in the beanbag an...\n",
              "15996    i am now turning and i feel pathetic that i am...\n",
              "15997                       i feel strong and good overall\n",
              "15998    i feel like this was such a rude comment and i...\n",
              "15999    i know a lot but i feel so stupid because i ca...\n",
              "Name: Text, Length: 16000, dtype: object"
            ]
          },
          "metadata": {},
          "execution_count": 48
        }
      ]
    },
    {
      "cell_type": "code",
      "source": [
        "y_train\n"
      ],
      "metadata": {
        "colab": {
          "base_uri": "https://localhost:8080/"
        },
        "id": "_5wbXXRzwcUb",
        "outputId": "8a9dfdad-d0d2-4118-fed6-3cacacbc756d"
      },
      "execution_count": null,
      "outputs": [
        {
          "output_type": "execute_result",
          "data": {
            "text/plain": [
              "array([[4],\n",
              "       [4],\n",
              "       [0],\n",
              "       ...,\n",
              "       [2],\n",
              "       [0],\n",
              "       [4]])"
            ]
          },
          "metadata": {},
          "execution_count": 49
        }
      ]
    },
    {
      "cell_type": "code",
      "execution_count": null,
      "metadata": {
        "colab": {
          "base_uri": "https://localhost:8080/"
        },
        "id": "rpaYR9KYuiS3",
        "outputId": "865411ac-a013-47e5-b2c7-7f93394d7ddb"
      },
      "outputs": [
        {
          "output_type": "stream",
          "name": "stdout",
          "text": [
            "joy         5362\n",
            "sadness     4666\n",
            "anger       2159\n",
            "fear        1937\n",
            "love        1304\n",
            "surprise     572\n",
            "Name: Emotion, dtype: int64\n",
            "joy         695\n",
            "sadness     581\n",
            "anger       275\n",
            "fear        224\n",
            "love        159\n",
            "surprise     66\n",
            "Name: Emotion, dtype: int64\n",
            "joy         704\n",
            "sadness     550\n",
            "anger       275\n",
            "fear        212\n",
            "love        178\n",
            "surprise     81\n",
            "Name: Emotion, dtype: int64\n"
          ]
        }
      ],
      "source": [
        "#y_train.value_counts()[y_train.unique()[0]]\n",
        "#y_train.unique()\n",
        "print(y_train.value_counts())\n",
        "print(y_test.value_counts())\n",
        "print(y_val.value_counts())"
      ]
    },
    {
      "cell_type": "code",
      "execution_count": null,
      "metadata": {
        "colab": {
          "base_uri": "https://localhost:8080/"
        },
        "id": "xDgCq-qhe_XW",
        "outputId": "5d082895-0268-4dec-d7e4-f88ab2fb6bc0"
      },
      "outputs": [
        {
          "output_type": "stream",
          "name": "stdout",
          "text": [
            "[4666, 2159, 1304, 572, 1937, 5362]\n",
            "[581, 275, 159, 66, 224, 695]\n",
            "[550, 275, 178, 81, 212, 704]\n"
          ]
        }
      ],
      "source": [
        "train_labels = ['sadness', 'anger', 'love', 'surprise', 'fear', 'joy']\n",
        "height_train = [0, 0, 0, 0, 0, 0]\n",
        "\n",
        "test_labels = ['sadness', 'anger', 'love', 'surprise', 'fear', 'joy']\n",
        "height_test = [0, 0, 0, 0, 0, 0]\n",
        "\n",
        "val_labels = ['sadness', 'anger', 'love', 'surprise', 'fear', 'joy']\n",
        "height_val = [0, 0, 0, 0, 0, 0]\n",
        "\n",
        "for i in y_train:\n",
        "  if i == train_labels[0]:\n",
        "    height_train[0] += 1\n",
        "  elif i == train_labels[1]:\n",
        "    height_train[1] += 1\n",
        "  elif i == train_labels[2]:\n",
        "    height_train[2] += 1\n",
        "  elif i == train_labels[3]:\n",
        "    height_train[3] += 1\n",
        "  elif i == train_labels[4]:\n",
        "    height_train[4] += 1\n",
        "  elif i == train_labels[5]:\n",
        "    height_train[5] += 1\n",
        "\n",
        "for i in y_test:\n",
        "  if i == test_labels[0]:\n",
        "    height_test[0] += 1\n",
        "  elif i == test_labels[1]:\n",
        "    height_test[1] += 1\n",
        "  elif i == test_labels[2]:\n",
        "    height_test[2] += 1\n",
        "  elif i == test_labels[3]:\n",
        "    height_test[3] += 1\n",
        "  elif i == test_labels[4]:\n",
        "    height_test[4] += 1\n",
        "  elif i == test_labels[5]:\n",
        "    height_test[5] += 1\n",
        "\n",
        "for i in y_val:\n",
        "  if i == val_labels[0]:\n",
        "    height_val[0] += 1\n",
        "  elif i == val_labels[1]:\n",
        "    height_val[1] += 1\n",
        "  elif i == val_labels[2]:\n",
        "    height_val[2] += 1\n",
        "  elif i == val_labels[3]:\n",
        "    height_val[3] += 1\n",
        "  elif i == val_labels[4]:\n",
        "    height_val[4] += 1\n",
        "  elif i == val_labels[5]:\n",
        "    height_val[5] += 1\n",
        "\n",
        "print(height_train)\n",
        "print(height_test)\n",
        "print(height_val)"
      ]
    },
    {
      "cell_type": "code",
      "execution_count": null,
      "metadata": {
        "colab": {
          "base_uri": "https://localhost:8080/",
          "height": 809
        },
        "id": "_OFClA3aQpq9",
        "outputId": "4eda1d4e-22af-42ce-d9c7-69e191300e05"
      },
      "outputs": [
        {
          "output_type": "display_data",
          "data": {
            "text/plain": [
              "<Figure size 432x288 with 1 Axes>"
            ],
            "image/png": "[encoded data removed]"
          },
          "metadata": {
            "needs_background": "light"
          }
        },
        {
          "output_type": "display_data",
          "data": {
            "text/plain": [
              "<Figure size 432x288 with 1 Axes>"
            ],
            "image/png": "[encoded data removed]"
          },
          "metadata": {
            "needs_background": "light"
          }
        },
        {
          "output_type": "display_data",
          "data": {
            "text/plain": [
              "<Figure size 432x288 with 1 Axes>"
            ],
            "image/png": "[encoded data removed]"
          },
          "metadata": {
            "needs_background": "light"
          }
        }
      ],
      "source": [
        "# Visualize classes counts\n",
        "colors = np.array([\"gray\", 'orangered', 'hotpink', 'gold', 'teal', 'cornflowerblue'])\n",
        "\n",
        "plt.bar(y_train.unique(), height_train, color=colors)\n",
        "plt.title(\"Training data - classes counts\")\n",
        "plt.show()\n",
        "\n",
        "plt.bar(test_labels, height_test, color=colors)\n",
        "plt.title(\"Testing data - classes counts\")\n",
        "plt.show()\n",
        "\n",
        "plt.bar(val_labels, height_val, color=colors)\n",
        "plt.title(\"Validation data - classes counts\")\n",
        "plt.show()"
      ]
    },
    {
      "cell_type": "code",
      "execution_count": null,
      "metadata": {
        "id": "V9F2tWMGQpq_"
      },
      "outputs": [],
      "source": [
        "# Encode labels\n",
        "le = LabelEncoder()\n",
        "y_train = le.fit_transform(y_train)\n",
        "y_test = le.fit_transform(y_test)\n",
        "y_val = le.fit_transform(y_val)\n",
        "\n",
        "y_train = y_train.reshape(-1,1)\n",
        "y_test = y_test.reshape(-1,1)\n",
        "y_val = y_val.reshape(-1,1)\n"
      ]
    },
    {
      "cell_type": "code",
      "execution_count": null,
      "metadata": {
        "colab": {
          "base_uri": "https://localhost:8080/"
        },
        "id": "dx4YKzhikLIA",
        "outputId": "f5e972d1-68cd-4692-f7b6-55d07e3dc0ff"
      },
      "outputs": [
        {
          "output_type": "execute_result",
          "data": {
            "text/plain": [
              "array([[4],\n",
              "       [4],\n",
              "       [0],\n",
              "       ...,\n",
              "       [2],\n",
              "       [0],\n",
              "       [4]])"
            ]
          },
          "metadata": {},
          "execution_count": 10
        }
      ],
      "source": [
        "#y_val = y_val.reshape(-1,1)\n",
        "y_train"
      ]
    },
    {
      "cell_type": "code",
      "execution_count": null,
      "metadata": {
        "colab": {
          "background_save": true
        },
        "id": "uEURxY9Zw1E7"
      },
      "outputs": [],
      "source": []
    },
    {
      "cell_type": "code",
      "execution_count": null,
      "metadata": {
        "colab": {
          "base_uri": "https://localhost:8080/"
        },
        "id": "d40kAQnHQprC",
        "outputId": "02d8b67d-6a0e-4bd7-89bc-e80d74802f6f"
      },
      "outputs": [
        {
          "output_type": "stream",
          "name": "stdout",
          "text": [
            "Vocabulary size = 16185\n"
          ]
        }
      ],
      "source": [
        "# Tokenize words\n",
        "max_len = 256\n",
        "tokenizer = Tokenizer()\n",
        "tokenizer.fit_on_texts(pd.concat([X_train, X_test], axis=0))\n",
        "\n",
        "sequences_train = tokenizer.texts_to_sequences(X_train)\n",
        "sequences_test = tokenizer.texts_to_sequences(X_test)\n",
        "sequences_val = tokenizer.texts_to_sequences(X_val)\n",
        "\n",
        "X_train = pad_sequences(sequences_train, maxlen=max_len, truncating='pre')\n",
        "X_test = pad_sequences(sequences_test, maxlen=max_len, truncating='pre')\n",
        "X_val = pad_sequences(sequences_val, maxlen=max_len, truncating='pre')\n",
        "\n",
        "vocabSize = len(tokenizer.index_word) + 1\n",
        "print(f\"Vocabulary size = {vocabSize}\")"
      ]
    },
    {
      "cell_type": "code",
      "execution_count": null,
      "metadata": {
        "colab": {
          "base_uri": "https://localhost:8080/"
        },
        "id": "e67R2xDlQprD",
        "outputId": "69624fbb-ede9-4097-ab91-3474e860b9cc"
      },
      "outputs": [
        {
          "output_type": "stream",
          "name": "stdout",
          "text": [
            "Found 400000 word vectors.\n",
            "Converted 15069 words (1115 misses)\n"
          ]
        }
      ],
      "source": [
        "#Read GloVE embeddings\n",
        "path_to_glove_file = '/content/drive/MyDrive/glove.6B.200d.txt'\n",
        "num_tokens = vocabSize\n",
        "embedding_dim = 200\n",
        "hits = 0\n",
        "misses = 0\n",
        "embeddings_index = {}\n",
        "\n",
        "# Read word vectors\n",
        "with open(path_to_glove_file) as f:\n",
        "    for line in f:\n",
        "        word, coefs = line.split(maxsplit=1)\n",
        "        coefs = np.fromstring(coefs, \"f\", sep=\" \")\n",
        "        embeddings_index[word] = coefs\n",
        "print(\"Found %s word vectors.\" % len(embeddings_index))\n",
        "\n",
        "\n",
        "# Assign word vectors to our dictionary/vocabulary\n",
        "embedding_matrix = np.zeros((num_tokens, embedding_dim))\n",
        "for word, i in tokenizer.word_index.items():\n",
        "    embedding_vector = embeddings_index.get(word)\n",
        "    if embedding_vector is not None:\n",
        "        # Words not found in embedding index will be all-zeros.\n",
        "        # This includes the representation for \"padding\" and \"OOV\"\n",
        "        embedding_matrix[i] = embedding_vector\n",
        "        hits += 1\n",
        "    else:\n",
        "        misses += 1\n",
        "print(\"Converted %d words (%d misses)\" % (hits, misses))"
      ]
    },
    {
      "cell_type": "code",
      "execution_count": null,
      "metadata": {
        "colab": {
          "background_save": true,
          "base_uri": "https://localhost:8080/"
        },
        "id": "HoS6qX3Js2Vo",
        "outputId": "971830c0-0f9e-4632-8a30-2bddee4ed082"
      },
      "outputs": [
        {
          "name": "stdout",
          "output_type": "stream",
          "text": [
            "[[   0    0    0 ...  138    2  642]\n",
            " [   0    0    0 ...    3   21 1344]\n",
            " [   0    0    0 ...    2  462  414]\n",
            " ...\n",
            " [   0    0    0 ...    3  104 1429]\n",
            " [   0    0    0 ...  333    8   42]\n",
            " [   0    0    0 ...   25 3855   12]]\n"
          ]
        }
      ],
      "source": [
        "print(X_train)"
      ]
    },
    {
      "cell_type": "code",
      "execution_count": null,
      "metadata": {
        "colab": {
          "base_uri": "https://localhost:8080/"
        },
        "id": "wSJWnBz2QprE",
        "outputId": "f910b2dc-281e-4c30-e2ee-c4b31f1a1445"
      },
      "outputs": [
        {
          "output_type": "stream",
          "name": "stdout",
          "text": [
            "Model: \"sequential\"\n",
            "_________________________________________________________________\n",
            " Layer (type)                Output Shape              Param #   \n",
            "=================================================================\n",
            " embedding (Embedding)       (None, 256, 200)          3237000   \n",
            "                                                                 \n",
            " bidirectional (Bidirectiona  (None, 256, 64)          59648     \n",
            " l)                                                              \n",
            "                                                                 \n",
            " bidirectional_1 (Bidirectio  (None, 64)               24832     \n",
            " nal)                                                            \n",
            "                                                                 \n",
            " dropout (Dropout)           (None, 64)                0         \n",
            "                                                                 \n",
            " dense (Dense)               (None, 256)               16640     \n",
            "                                                                 \n",
            " dropout_1 (Dropout)         (None, 256)               0         \n",
            "                                                                 \n",
            " dense_1 (Dense)             (None, 128)               32896     \n",
            "                                                                 \n",
            " dropout_2 (Dropout)         (None, 128)               0         \n",
            "                                                                 \n",
            " dense_2 (Dense)             (None, 32)                4128      \n",
            "                                                                 \n",
            " dropout_3 (Dropout)         (None, 32)                0         \n",
            "                                                                 \n",
            " dense_3 (Dense)             (None, 6)                 198       \n",
            "                                                                 \n",
            "=================================================================\n",
            "Total params: 3,375,342\n",
            "Trainable params: 3,375,342\n",
            "Non-trainable params: 0\n",
            "_________________________________________________________________\n"
          ]
        }
      ],
      "source": [
        "import tensorflow as tf\n",
        "from keras.models import Model\n",
        "from keras.layers import LSTM, Activation, Dense, Dropout, Input, Embedding, GlobalAveragePooling1D, Conv1D, Flatten, SimpleRNN, TimeDistributed\n",
        "from keras.regularizers import l1, l2\n",
        "\n",
        "# Build neural network architecture\n",
        "\n",
        "adam = Adam(learning_rate=0.005)\n",
        "\n",
        "model = tf.keras.models.Sequential([tf.keras.layers.Embedding(vocabSize, embedding_dim, weights=[embedding_matrix], input_length = 256, trainable=True),\n",
        "                                    Bidirectional(LSTM(32, return_sequences=True)), \n",
        "                                    Bidirectional(LSTM(32, return_sequences=False)), \n",
        "                                    tf.keras.layers.Dropout(0.3),\n",
        "                                    Dense(256, activation='relu'),\n",
        "                                    Dropout(0.5),\n",
        "                                    Dense(128, activation='relu'),\n",
        "                                    Dropout(0.3),\n",
        "                                    Dense(32, activation='relu'),\n",
        "                                    Dropout(0.2),\n",
        "                                    #tf.keras.layers.Dense(6, kernel_regularizer=l2(0.001),\n",
        "                                                          #bias_regularizer=l2(0.001), activation='relu'),\n",
        "                                    #tf.keras.layers.Dropout(0.5),\n",
        "                                    tf.keras.layers.Dense(6, activation='softmax')])\n",
        "model.summary()\n",
        "\n",
        "\n",
        "model.compile(loss='sparse_categorical_crossentropy', optimizer=adam, metrics=['accuracy'])"
      ]
    },
    {
      "cell_type": "code",
      "execution_count": null,
      "metadata": {
        "id": "VSjuWsCsQprG"
      },
      "outputs": [],
      "source": [
        "#Callback\n",
        "callback = EarlyStopping(\n",
        "    monitor='val_loss',\n",
        "    min_delta=0,\n",
        "    patience=3,\n",
        "    verbose=0,\n",
        "    mode='auto',\n",
        "    baseline=None,\n",
        "    restore_best_weights=False\n",
        ")"
      ]
    },
    {
      "cell_type": "code",
      "execution_count": null,
      "metadata": {
        "colab": {
          "base_uri": "https://localhost:8080/"
        },
        "id": "CM_GyHrFQprI",
        "outputId": "1bcc3f45-c34f-45b8-fd48-55bf7aa88e88"
      },
      "outputs": [
        {
          "output_type": "stream",
          "name": "stdout",
          "text": [
            "Epoch 1/20\n",
            "63/63 [==============================] - 12s 77ms/step - loss: 1.3643 - accuracy: 0.4793 - val_loss: 0.9212 - val_accuracy: 0.6885\n",
            "Epoch 2/20\n",
            "63/63 [==============================] - 3s 54ms/step - loss: 0.6422 - accuracy: 0.7372 - val_loss: 0.4502 - val_accuracy: 0.8235\n",
            "Epoch 3/20\n",
            "63/63 [==============================] - 3s 55ms/step - loss: 0.3659 - accuracy: 0.8499 - val_loss: 0.3133 - val_accuracy: 0.8745\n",
            "Epoch 4/20\n",
            "63/63 [==============================] - 3s 55ms/step - loss: 0.2073 - accuracy: 0.9288 - val_loss: 0.2643 - val_accuracy: 0.9250\n",
            "Epoch 5/20\n",
            "63/63 [==============================] - 3s 54ms/step - loss: 0.1310 - accuracy: 0.9587 - val_loss: 0.3039 - val_accuracy: 0.9165\n",
            "Epoch 6/20\n",
            "63/63 [==============================] - 3s 54ms/step - loss: 0.1002 - accuracy: 0.9684 - val_loss: 0.3078 - val_accuracy: 0.9285\n",
            "Epoch 7/20\n",
            "63/63 [==============================] - 3s 54ms/step - loss: 0.0764 - accuracy: 0.9760 - val_loss: 0.3404 - val_accuracy: 0.9170\n"
          ]
        }
      ],
      "source": [
        "# Fit model\n",
        "\n",
        "history = model.fit(X_train, y_train, batch_size=256,epochs=20, validation_data=(X_val, y_val),callbacks=callback)"
      ]
    },
    {
      "cell_type": "code",
      "execution_count": null,
      "metadata": {
        "colab": {
          "base_uri": "https://localhost:8080/"
        },
        "id": "Duln-TnJQprI",
        "outputId": "cd281b1d-a650-4d9d-c65c-d9540ef78625"
      },
      "outputs": [
        {
          "output_type": "stream",
          "name": "stdout",
          "text": [
            "63/63 [==============================] - 1s 18ms/step - loss: 0.3404 - accuracy: 0.9170\n"
          ]
        },
        {
          "output_type": "execute_result",
          "data": {
            "text/plain": [
              "[0.34040990471839905, 0.9169999957084656]"
            ]
          },
          "metadata": {},
          "execution_count": 16
        }
      ],
      "source": [
        "model.evaluate(X_val, y_val, verbose=1)"
      ]
    },
    {
      "cell_type": "code",
      "execution_count": null,
      "metadata": {
        "colab": {
          "base_uri": "https://localhost:8080/",
          "height": 545
        },
        "id": "0E60nVznQprO",
        "outputId": "600c623b-5189-49c5-dc8e-4575a306843a"
      },
      "outputs": [
        {
          "output_type": "display_data",
          "data": {
            "text/plain": [
              "<Figure size 432x288 with 1 Axes>"
            ],
            "image/png": "[encoded data removed]"
          },
          "metadata": {
            "needs_background": "light"
          }
        },
        {
          "output_type": "display_data",
          "data": {
            "text/plain": [
              "<Figure size 432x288 with 1 Axes>"
            ],
            "image/png": "[encoded data removed]"
          },
          "metadata": {
            "needs_background": "light"
          }
        }
      ],
      "source": [
        "# Visualize Loss & Accuracy\n",
        "\n",
        "%matplotlib inline\n",
        "import matplotlib.pyplot as plt\n",
        "acc = history.history['accuracy']\n",
        "val_acc = history.history['val_accuracy']\n",
        "loss = history.history['loss']\n",
        "val_loss = history.history['val_loss']\n",
        "\n",
        "epochs = range(len(acc))\n",
        "\n",
        "plt.plot(epochs, acc, 'r', label='Training accuracy')\n",
        "plt.plot(epochs, val_acc, 'b', label='Validation accuracy')\n",
        "plt.title('Training and validation accuracy')\n",
        "plt.legend()\n",
        "plt.figure()\n",
        "\n",
        "plt.plot(epochs, loss, 'r', label='Training Loss')\n",
        "plt.plot(epochs, val_loss, 'b', label='Validation Loss')\n",
        "plt.title('Training and validation loss')\n",
        "plt.legend()\n",
        "\n",
        "plt.show()"
      ]
    },
    {
      "cell_type": "code",
      "execution_count": null,
      "metadata": {
        "colab": {
          "base_uri": "https://localhost:8080/"
        },
        "id": "hFGFd0gQQprP",
        "outputId": "44062682-f95b-44ed-ad9b-a3c9d461f409"
      },
      "outputs": [
        {
          "output_type": "stream",
          "name": "stdout",
          "text": [
            "you won and i am proud of you\n",
            "joy : 99.28777813911438 %\n",
            "\n",
            "i lost the game and i am disappointed\n",
            "sadness : 99.99065399169922 %\n",
            "\n",
            "it made me shocked and gasped\n",
            "surprise : 87.14656233787537 %\n",
            "\n"
          ]
        }
      ],
      "source": [
        "# Classify custom sample\n",
        "sentences = [\n",
        "            \"you won and i am proud of you\",\n",
        "             \"i lost the game and i am disappointed\", \n",
        "             \"it made me shocked and gasped\"       \n",
        "            ]\n",
        "labels = train_labels\n",
        "labels.sort       \n",
        "          \n",
        "for sentence in sentences:\n",
        "    print(sentence)\n",
        "    sentence = clean(sentence)\n",
        "    sentence = tokenizer.texts_to_sequences([sentence])\n",
        "    sentence = pad_sequences(sentence, maxlen=max_len, truncating='pre')\n",
        "    #result = le.inverse_transform(np.argmax(model.predict(sentence), axis=0))[0]\n",
        "    #test = model.predict(sentence)\n",
        "    proba =  np.max(model.predict(sentence))\n",
        "    index = np.argmax(model.predict(sentence))\n",
        "    result = labels[index]\n",
        "    print(f\"{result} : {proba*100} %\\n\")"
      ]
    },
    {
      "cell_type": "code",
      "execution_count": null,
      "metadata": {
        "colab": {
          "base_uri": "https://localhost:8080/",
          "height": 17
        },
        "id": "1OAz47lBQprP",
        "outputId": "9ac54d97-2b8b-42b0-8dab-deb33b4c81b0"
      },
      "outputs": [
        {
          "output_type": "display_data",
          "data": {
            "text/plain": [
              "<IPython.core.display.Javascript object>"
            ],
            "application/javascript": [
              "\n",
              "    async function download(id, filename, size) {\n",
              "      if (!google.colab.kernel.accessAllowed) {\n",
              "        return;\n",
              "      }\n",
              "      const div = document.createElement('div');\n",
              "      const label = document.createElement('label');\n",
              "      label.textContent = `Downloading \"${filename}\": `;\n",
              "      div.appendChild(label);\n",
              "      const progress = document.createElement('progress');\n",
              "      progress.max = size;\n",
              "      div.appendChild(progress);\n",
              "      document.body.appendChild(div);\n",
              "\n",
              "      const buffers = [];\n",
              "      let downloaded = 0;\n",
              "\n",
              "      const channel = await google.colab.kernel.comms.open(id);\n",
              "      // Send a message to notify the kernel that we're ready.\n",
              "      channel.send({})\n",
              "\n",
              "      for await (const message of channel.messages) {\n",
              "        // Send a message to notify the kernel that we're ready.\n",
              "        channel.send({})\n",
              "        if (message.buffers) {\n",
              "          for (const buffer of message.buffers) {\n",
              "            buffers.push(buffer);\n",
              "            downloaded += buffer.byteLength;\n",
              "            progress.value = downloaded;\n",
              "          }\n",
              "        }\n",
              "      }\n",
              "      const blob = new Blob(buffers, {type: 'application/binary'});\n",
              "      const a = document.createElement('a');\n",
              "      a.href = window.URL.createObjectURL(blob);\n",
              "      a.download = filename;\n",
              "      div.appendChild(a);\n",
              "      a.click();\n",
              "      div.remove();\n",
              "    }\n",
              "  "
            ]
          },
          "metadata": {}
        },
        {
          "output_type": "display_data",
          "data": {
            "text/plain": [
              "<IPython.core.display.Javascript object>"
            ],
            "application/javascript": [
              "download(\"download_81fac661-3f6b-42c6-a66e-c73cf1822197\", \"Emotion Recognition.h5\", 40607104)"
            ]
          },
          "metadata": {}
        }
      ],
      "source": [
        "import pickle\n",
        "from google.colab import files\n",
        "\n",
        "with open('tokenizer.pickle', 'wb') as f:\n",
        "    pickle.dump(tokenizer, f)\n",
        "    \n",
        "with open('labelEncoder.pickle', 'wb') as f:\n",
        "    pickle.dump(le, f)\n",
        "    \n",
        "    \n",
        "model.save('Emotion Recognition.h5')\n",
        "files.download('Emotion Recognition.h5')"
      ]
    }
  ],
  "metadata": {
    "accelerator": "GPU",
    "colab": {
      "provenance": []
    },
    "gpuClass": "standard",
    "kernelspec": {
      "display_name": "Python 3",
      "language": "python",
      "name": "python3"
    },
    "language_info": {
      "codemirror_mode": {
        "name": "ipython",
        "version": 3
      },
      "file_extension": ".py",
      "mimetype": "text/x-python",
      "name": "python",
      "nbconvert_exporter": "python",
      "pygments_lexer": "ipython3",
      "version": "3.6.4"
    }
  },
  "nbformat": 4,
  "nbformat_minor": 0
}